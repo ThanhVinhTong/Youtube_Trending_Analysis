{
  "nbformat": 4,
  "nbformat_minor": 0,
  "metadata": {
    "colab": {
      "provenance": []
    },
    "kernelspec": {
      "name": "python3",
      "display_name": "Python 3"
    },
    "language_info": {
      "name": "python"
    }
  },
  "cells": [
    {
      "cell_type": "code",
      "execution_count": 1,
      "metadata": {
        "id": "yLwi6DOqmj9B"
      },
      "outputs": [],
      "source": [
        "import pandas as pd\n",
        "import numpy as np\n",
        "import seaborn as sns\n",
        "import matplotlib.pyplot as plt\n",
        "import matplotlib as mpl\n",
        "import os\n",
        "from subprocess import check_output\n",
        "from wordcloud import WordCloud, STOPWORDS"
      ]
    },
    {
      "cell_type": "code",
      "source": [
        "df_yout = pd.read_csv(\"/content/clean.csv\")"
      ],
      "metadata": {
        "id": "nQNPYH2amrdg"
      },
      "execution_count": null,
      "outputs": []
    },
    {
      "cell_type": "code",
      "source": [
        "print(df_yout.shape)\n",
        "print(df_yout.nunique())"
      ],
      "metadata": {
        "id": "0VR-cJyqm4rU"
      },
      "execution_count": null,
      "outputs": []
    },
    {
      "cell_type": "code",
      "source": [
        "# Checking for Nulls again and type of our data\n",
        "df_yout.info()\n",
        "print(df_yout.where(df_yout['category_id'] == 29).sum())"
      ],
      "metadata": {
        "id": "4lUFNmaOoLl3"
      },
      "execution_count": null,
      "outputs": []
    },
    {
      "cell_type": "markdown",
      "source": [
        "# Let's start looking if Views, likes, and comment counts have a normal distribuition\n"
      ],
      "metadata": {
        "id": "a3XVJZiuoO9v"
      }
    },
    {
      "cell_type": "code",
      "source": [
        "df_yout['likes_log'] = np.log(df_yout['likes'] + 1)\n",
        "df_yout['views_log'] = np.log(df_yout['view_count'] + 1)\n",
        "df_yout['comment_log'] = np.log(df_yout['comment_count'] + 1)\n",
        "\n",
        "plt.figure(figsize = (12,6))\n",
        "\n",
        "plt.subplot(221)\n",
        "g1 = sns.distplot(df_yout['views_log'])\n",
        "g1.set_title(\"VIEWS LOG DISTRIBUTION\", fontsize=16)\n",
        "\n",
        "plt.subplot(223)\n",
        "g2 = sns.distplot(df_yout['likes_log'],color='green')\n",
        "g2.set_title('LIKES LOG DISTRIBUTION', fontsize=16)\n",
        "\n",
        "plt.subplot(222)\n",
        "g4 = sns.distplot(df_yout['comment_log'])\n",
        "g4.set_title(\"COMMENTS LOG DISTRIBUTION\", fontsize=16)\n",
        "\n",
        "plt.subplots_adjust(wspace = 0.2, hspace = 0.4,top = 0.9)\n",
        "plt.show()\n"
      ],
      "metadata": {
        "id": "NeyAbsLIoSBR"
      },
      "execution_count": null,
      "outputs": []
    },
    {
      "cell_type": "markdown",
      "source": [],
      "metadata": {
        "id": "FlNW70BtovK7"
      }
    },
    {
      "cell_type": "code",
      "source": [
        "print(\"Views quantiles\")\n",
        "print(df_yout['view_count'].quantile([.01,.25,.5,.75,.99]))\n",
        "print(\"\")\n",
        "print(\"Likes quantiles\")\n",
        "print(df_yout['likes'].quantile([.01,.25,.5,.75,.99]))\n",
        "print(\"\")\n",
        "print(\"Comment quantiles\")\n",
        "print(df_yout['comment_count'].quantile([.01,.25,.5,.75,.99]))"
      ],
      "metadata": {
        "id": "cgn1eLv0oywG"
      },
      "execution_count": null,
      "outputs": []
    },
    {
      "cell_type": "code",
      "source": [
        "df_yout['category_name'] = np.nan\n",
        "\n",
        "df_yout.loc[(df_yout[\"category_id\"] == 1),\"category_name\"] = 'Film & Animation'\n",
        "df_yout.loc[(df_yout[\"category_id\"] == 2),\"category_name\"] = 'Autos & Vehicles'\n",
        "df_yout.loc[(df_yout[\"category_id\"] == 10),\"category_name\"] = 'Music'\n",
        "df_yout.loc[(df_yout[\"category_id\"] == 15),\"category_name\"] = 'Pets & Animals'\n",
        "df_yout.loc[(df_yout[\"category_id\"] == 17),\"category_name\"] = 'Sports'\n",
        "df_yout.loc[(df_yout[\"category_id\"] == 18),\"category_name\"] = 'Short Movies'\n",
        "df_yout.loc[(df_yout[\"category_id\"] == 19),\"category_name\"] = 'Travel and Events'\n",
        "df_yout.loc[(df_yout[\"category_id\"] == 20),\"category_name\"] = 'Gaming'\n",
        "df_yout.loc[(df_yout[\"category_id\"] == 21),\"category_name\"] = 'Videoblogging'\n",
        "df_yout.loc[(df_yout[\"category_id\"] == 22),\"category_name\"] = 'People and Blogs'\n",
        "df_yout.loc[(df_yout[\"category_id\"] == 23),\"category_name\"] = 'Comedy'\n",
        "df_yout.loc[(df_yout[\"category_id\"] == 24),\"category_name\"] = 'Entertainment'\n",
        "df_yout.loc[(df_yout[\"category_id\"] == 25),\"category_name\"] = 'News & Politics'\n",
        "df_yout.loc[(df_yout[\"category_id\"] == 26),\"category_name\"] = 'Howto & Style'\n",
        "df_yout.loc[(df_yout[\"category_id\"] == 27),\"category_name\"] = 'Education'\n",
        "df_yout.loc[(df_yout[\"category_id\"] == 28),\"category_name\"] = 'Science & Technology'\n",
        "df_yout.loc[(df_yout[\"category_id\"] == 30),\"category_name\"] = 'Movies'\n",
        "df_yout.loc[(df_yout[\"category_id\"] == 31),\"category_name\"] = 'Anime/Animation'\n",
        "df_yout.loc[(df_yout[\"category_id\"] == 32),\"category_name\"] = 'Action/Adventure'\n",
        "df_yout.loc[(df_yout[\"category_id\"] == 33),\"category_name\"] = 'Classics'\n",
        "df_yout.loc[(df_yout[\"category_id\"] == 34),\"category_name\"] = 'Comedy'\n",
        "df_yout.loc[(df_yout[\"category_id\"] == 35),\"category_name\"] = 'Documentary'\n",
        "df_yout.loc[(df_yout[\"category_id\"] == 36),\"category_name\"] = 'Drama'\n",
        "df_yout.loc[(df_yout[\"category_id\"] == 37),\"category_name\"] = 'Family'\n",
        "df_yout.loc[(df_yout[\"category_id\"] == 38),\"category_name\"] = 'Foreign'\n",
        "df_yout.loc[(df_yout[\"category_id\"] == 39),\"category_name\"] = 'Horror'\n",
        "df_yout.loc[(df_yout[\"category_id\"] == 40),\"category_name\"] = 'Sci-Fi/Fantasy'\n",
        "df_yout.loc[(df_yout[\"category_id\"] == 41),\"category_name\"] = 'Thriller'\n",
        "df_yout.loc[(df_yout[\"category_id\"] == 42),\"category_name\"] = 'Shorts'\n",
        "df_yout.loc[(df_yout[\"category_id\"] == 43),\"category_name\"] = 'Shows'\n",
        "df_yout.loc[(df_yout[\"category_id\"] == 44),\"category_name\"] = 'Trailers'\n"
      ],
      "metadata": {
        "id": "O2weviTto6dB"
      },
      "execution_count": null,
      "outputs": []
    },
    {
      "cell_type": "code",
      "source": [
        "print(\"Category Name count\")\n",
        "print(df_yout.category_name.value_counts()[:5])\n",
        "\n",
        "plt.figure(figsize = (14,9))\n",
        "\n",
        "plt.subplot(211)\n",
        "g = sns.countplot('category_name', data=df_yout, palette=\"Set1\")\n",
        "g.set_xticklabels(g.get_xticklabels(),rotation=45)\n",
        "g.set_title(\"Counting the Video Category's \", fontsize=15)\n",
        "g.set_xlabel(\"\", fontsize=12)\n",
        "g.set_ylabel(\"Count\", fontsize=12)\n",
        "\n",
        "plt.subplot(212)\n",
        "g1 = sns.boxplot(x='category_name', y='views_log', data=df_yout, palette=\"Set1\")\n",
        "g1.set_xticklabels(g.get_xticklabels(),rotation=45)\n",
        "g1.set_title(\"Views Distribuition by Category Names\", fontsize=20)\n",
        "g1.set_xlabel(\"\", fontsize=15)\n",
        "g1.set_ylabel(\"Views(log)\", fontsize=15)\n",
        "\n",
        "plt.subplots_adjust(hspace = 0.9, top = 0.9)\n",
        "\n",
        "plt.show()"
      ],
      "metadata": {
        "id": "VdpV5tm_IKmG"
      },
      "execution_count": null,
      "outputs": []
    },
    {
      "cell_type": "markdown",
      "source": [
        "#Looking the Views, likes, distribuition by category_name's "
      ],
      "metadata": {
        "id": "wubllN4LIu9Q"
      }
    },
    {
      "cell_type": "code",
      "source": [
        "plt.figure(figsize = (14,6))\n",
        "\n",
        "g = sns.boxplot(x='category_name', y='likes_log', data=df_yout, palette=\"Set1\")\n",
        "g.set_xticklabels(g.get_xticklabels(),rotation=45)\n",
        "g.set_title(\"Likes Distribuition by Category Names \", fontsize=15)\n",
        "g.set_xlabel(\"\", fontsize=12)\n",
        "g.set_ylabel(\"Likes(log)\", fontsize=12)\n",
        "plt.show()"
      ],
      "metadata": {
        "id": "3jOXir6vKhRQ"
      },
      "execution_count": null,
      "outputs": []
    },
    {
      "cell_type": "code",
      "source": [
        "plt.figure(figsize = (14,6))\n",
        "\n",
        "g = sns.boxplot(x='category_name', y='comment_log', data=df_yout, palette=\"Set1\")\n",
        "g.set_xticklabels(g.get_xticklabels(),rotation=45)\n",
        "g.set_title(\"Comments Distribuition by Category Names\", fontsize=15)\n",
        "g.set_xlabel(\"\", fontsize=12)\n",
        "g.set_ylabel(\"Comments Count(log)\", fontsize=12)\n",
        "\n",
        "plt.show()"
      ],
      "metadata": {
        "id": "37yprvMMLsQh"
      },
      "execution_count": null,
      "outputs": []
    },
    {
      "cell_type": "markdown",
      "source": [
        "# Engagement Features"
      ],
      "metadata": {
        "id": "59whJrcCLvWg"
      }
    },
    {
      "cell_type": "code",
      "source": [
        "df_yout['like_rate'] =  df_yout ['likes'] / df_yout['view_count'] * 100\n",
        "df_yout['comment_rate'] =  df_yout ['comment_count'] / df_yout['view_count'] * 100"
      ],
      "metadata": {
        "id": "zy4Fhws-L5Oh"
      },
      "execution_count": null,
      "outputs": []
    },
    {
      "cell_type": "code",
      "source": [
        "plt.figure(figsize = (9,6))\n",
        "\n",
        "g1 = sns.distplot(df_yout['like_rate'], color='green',hist=False, label=\"Like\")\n",
        "g1 = sns.distplot(df_yout['comment_rate'],hist=False,label=\"Comment\")\n",
        "g1.set_title('CONVERT RATE DISTRIBUITION', fontsize=16)\n",
        "plt.legend()\n",
        "plt.show()"
      ],
      "metadata": {
        "id": "M5mnC_6eMeOZ"
      },
      "execution_count": null,
      "outputs": []
    },
    {
      "cell_type": "markdown",
      "source": [
        "Let's look the kde of this variables separated to deep understand them"
      ],
      "metadata": {
        "id": "sRTTKs9CO1gK"
      }
    },
    {
      "cell_type": "code",
      "source": [
        "plt.figure(figsize = (12,10))\n",
        "\n",
        "plt.subplot(221)\n",
        "g1 = sns.distplot(df_yout[df_yout['comments_disabled'] == True]['views_log'], \n",
        "                  hist=False, label='Comm_dis')\n",
        "g1.set_title(\"VIEWS LOG DISTRIBUITION\", fontsize=16)\n",
        "\n",
        "#plt.subplot(222)\n",
        "#g4 = sns.distplot(df_yout[df_yout['comments_disabled'] == True]['comment_log'],\n",
        "#                  hist=False, label='Comm_dis')\n",
        "#g4.set_title(\"COMMENTS LOG DISTRIBUITION\", fontsize=16)\n",
        "\n",
        "plt.subplot(222)\n",
        "g2 = sns.distplot(df_yout[df_yout['comments_disabled'] == True]['likes_log'], \n",
        "                  hist=False, label='Comm_dis')\n",
        "g2.set_title('LIKES LOG DISTRIBUITION', fontsize=16)\n",
        "\n",
        "plt.subplots_adjust(wspace = 0.2, hspace = 0.3,top = 0.9)\n",
        "plt.legend()\n",
        "plt.show()"
      ],
      "metadata": {
        "id": "dEB-E7E8Po5J"
      },
      "execution_count": null,
      "outputs": []
    },
    {
      "cell_type": "markdown",
      "source": [
        "Analysing the Correlation Matrix of the numerical variables"
      ],
      "metadata": {
        "id": "JSIVgoDPbzud"
      }
    },
    {
      "cell_type": "code",
      "source": [
        "plt.figure(figsize = (10,8))\n",
        "\n",
        "#Let's verify the correlation of each value\n",
        "sns.heatmap(df_yout[['like_rate', 'comment_rate', 'comment_log',\n",
        "         'views_log','likes_log', 'age']].corr(), annot=True)\n",
        "plt.show()"
      ],
      "metadata": {
        "id": "EZ77x21gb0i1"
      },
      "execution_count": null,
      "outputs": []
    },
    {
      "cell_type": "markdown",
      "source": [
        "# Let's extract the hour value of datetime"
      ],
      "metadata": {
        "id": "TlcgWSGZfDFP"
      }
    },
    {
      "cell_type": "code",
      "source": [
        "hour = []\n",
        "for date in df_yout['published_at']:\n",
        "  tempHour = (date.split(\"T\")[1].split(\":\"))[0]\n",
        "  hour.append(tempHour)\n",
        "df_yout['hour'] = hour\n",
        "df_yout['hour'] = df_yout['hour'].astype(int)\n",
        "print(df_yout['hour'].value_counts()[:5])"
      ],
      "metadata": {
        "id": "dZv0ZuVjfEd_"
      },
      "execution_count": null,
      "outputs": []
    },
    {
      "cell_type": "code",
      "source": [
        "plt.figure(figsize = (14,9))\n",
        "\n",
        "plt.subplot(211)\n",
        "g = sns.countplot('hour', data=df_yout, palette=\"Set1\")\n",
        "g.set_xticklabels(g.get_xticklabels(),rotation=45)\n",
        "g.set_title(\"Counting Hour \", fontsize=20)\n",
        "g.set_xlabel(\"Hours\", fontsize=15)\n",
        "g.set_ylabel(\"Count\", fontsize=15)\n",
        "\n",
        "plt.subplot(212)\n",
        "g1 = sns.boxenplot(x='hour', y='like_rate', data=df_yout, palette=\"Set1\")\n",
        "g1.set_xticklabels(g.get_xticklabels(),rotation=45)\n",
        "g1.set_title(\"Like Rate by Hour\", fontsize=20)\n",
        "g1.set_xlabel(\"Hours\", fontsize=15)\n",
        "g1.set_ylabel(\"Like Rate(log)\", fontsize=15)\n",
        "\n",
        "plt.subplots_adjust(hspace = 0.5, top = 0.9)\n",
        "\n",
        "plt.show()"
      ],
      "metadata": {
        "id": "cc68lX8joGHS"
      },
      "execution_count": null,
      "outputs": []
    },
    {
      "cell_type": "code",
      "source": [
        "plt.figure(figsize = (15,15))\n",
        "\n",
        "stopwords = set(STOPWORDS)\n",
        "wordcloud = WordCloud(\n",
        "                          background_color='black',\n",
        "                          stopwords=stopwords,\n",
        "                          max_words=150,\n",
        "                          max_font_size=40, \n",
        "                          random_state=42\n",
        "                         ).generate(str(df_yout['title']))\n",
        "\n",
        "print(wordcloud)\n",
        "fig = plt.figure(1)\n",
        "plt.imshow(wordcloud)\n",
        "plt.title(\"WORD CLOUD - TITLE\")\n",
        "plt.axis('off')\n",
        "plt.show()"
      ],
      "metadata": {
        "id": "lLqZAvzTugmR"
      },
      "execution_count": null,
      "outputs": []
    },
    {
      "cell_type": "code",
      "source": [
        "x = []\n",
        "for i in range (df_yout.shape[0]):\n",
        "  x.append(df_yout['view_count'].loc[i]/(df_yout['age'].loc[i] / 3600))\n",
        "plt.figure(figsize=(5,2))\n",
        "sns.displot(data= x)\n"
      ],
      "metadata": {
        "id": "tBPMiaurD_fp"
      },
      "execution_count": null,
      "outputs": []
    }
  ]
}