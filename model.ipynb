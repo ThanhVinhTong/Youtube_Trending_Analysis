{
 "cells": [
  {
   "cell_type": "code",
   "execution_count": 91,
   "metadata": {},
   "outputs": [],
   "source": [
    "# import all libraries\n",
    "import numpy as np\n",
    "import pandas as pd\n",
    "import matplotlib.pyplot as plt \n",
    "import seaborn as sns\n",
    "\n",
    "import sklearn\n",
    "from sklearn.model_selection import train_test_split\n",
    "from sklearn.preprocessing import MinMaxScaler\n",
    "from sklearn.preprocessing import scale\n",
    "\n",
    "from sklearn.linear_model import LinearRegression\n",
    "from sklearn.linear_model import SGDRegressor\n",
    "\n",
    "from sklearn.metrics import f1_score\n",
    "\n",
    "import warnings # supress warnings\n",
    "warnings.filterwarnings('ignore')"
   ]
  },
  {
   "cell_type": "code",
   "execution_count": 92,
   "metadata": {},
   "outputs": [],
   "source": [
    "df = pd.read_csv(\"./data/clean.csv\")"
   ]
  },
  {
   "cell_type": "code",
   "execution_count": 93,
   "metadata": {},
   "outputs": [
    {
     "name": "stdout",
     "output_type": "stream",
     "text": [
      "<class 'pandas.core.frame.DataFrame'>\n",
      "RangeIndex: 5121 entries, 0 to 5120\n",
      "Data columns (total 16 columns):\n",
      " #   Column             Non-Null Count  Dtype  \n",
      "---  ------             --------------  -----  \n",
      " 0   Unnamed: 0         5121 non-null   int64  \n",
      " 1   video_id           5121 non-null   object \n",
      " 2   title              5121 non-null   object \n",
      " 3   published_at       5121 non-null   object \n",
      " 4   channel_id         5121 non-null   object \n",
      " 5   channel_title      5121 non-null   object \n",
      " 6   category_id        5121 non-null   int64  \n",
      " 7   trending_date      5121 non-null   object \n",
      " 8   view_count         5121 non-null   int64  \n",
      " 9   likes              5121 non-null   int64  \n",
      " 10  comment_count      5121 non-null   int64  \n",
      " 11  comments_disabled  5121 non-null   bool   \n",
      " 12  description        5121 non-null   object \n",
      " 13  notes              5121 non-null   int64  \n",
      " 14  age                5121 non-null   int64  \n",
      " 15  temperature        5121 non-null   float64\n",
      "dtypes: bool(1), float64(1), int64(7), object(7)\n",
      "memory usage: 605.2+ KB\n"
     ]
    }
   ],
   "source": [
    "df.info()"
   ]
  },
  {
   "cell_type": "code",
   "execution_count": 94,
   "metadata": {},
   "outputs": [],
   "source": [
    "# train-test 70-30 split\n",
    "df_train, df_test = train_test_split(df, \n",
    "                                     train_size = 0.7, \n",
    "                                     test_size = 0.3, \n",
    "                                     random_state = 100)\n",
    "\n",
    "# rescale the features\n",
    "scaler = MinMaxScaler()\n",
    "\n",
    "# apply scaler() to all the numeric columns \n",
    "numeric_vars = ['temperature', 'age', 'comment_count', 'likes', 'view_count']\n",
    "df_train[numeric_vars] = scaler.fit_transform(df_train[numeric_vars])\n",
    "df_test[numeric_vars] = scaler.fit_transform(df_test[numeric_vars])"
   ]
  },
  {
   "attachments": {},
   "cell_type": "markdown",
   "metadata": {},
   "source": [
    "## Metrics for evaluating regression model"
   ]
  },
  {
   "cell_type": "code",
   "execution_count": 95,
   "metadata": {},
   "outputs": [],
   "source": [
    "from sklearn.metrics import mean_absolute_error,r2_score,mean_squared_error\n",
    "import numpy as np\n",
    "\n",
    "def run_experiment(model, X_train, y_train, X_test, y_test):\n",
    "    model.fit(X_train, y_train)\n",
    "    y_pred = model.predict(X_test)\n",
    "    print(\"Evaluation of model {}:\".format(model))\n",
    "    print(\"R^2 : \", r2_score(y_test, y_pred))\n",
    "    print(\"MAE :\", mean_absolute_error(y_test,y_pred))\n",
    "    print(\"RMSE:\",np.sqrt(mean_squared_error(y_test, y_pred)))\n",
    "    print(\"\\n\")"
   ]
  },
  {
   "attachments": {},
   "cell_type": "markdown",
   "metadata": {},
   "source": [
    "## Predictive analysis of number of views for YouTube’s trending videos"
   ]
  },
  {
   "cell_type": "code",
   "execution_count": 102,
   "metadata": {},
   "outputs": [],
   "source": [
    "x_col = ['comment_count', 'likes']\n",
    "y_col = ['view_count']"
   ]
  },
  {
   "cell_type": "code",
   "execution_count": 103,
   "metadata": {},
   "outputs": [
    {
     "data": {
      "text/plain": [
       "(((3584, 3), (3584, 1)), ((1537, 3), (1537, 1)))"
      ]
     },
     "execution_count": 103,
     "metadata": {},
     "output_type": "execute_result"
    }
   ],
   "source": [
    "# split into X and y for both train and test sets\n",
    "# reshaping is required since sklearn requires the data to be in shape\n",
    "# (n, 1), not as a series of shape (n, )\n",
    "X_train = np.array(df_train[x_col]).reshape(-1, len(x_col))\n",
    "y_train = np.array(df_train[y_col]).reshape(-1, 1)\n",
    "\n",
    "X_test = np.array(df_test[x_col]).reshape(-1, len(x_col))\n",
    "y_test = np.array(df_test[y_col]).reshape(-1, 1)\n",
    "\n",
    "(X_train.shape, y_train.shape), (X_test.shape, y_test.shape)"
   ]
  },
  {
   "cell_type": "code",
   "execution_count": 104,
   "metadata": {},
   "outputs": [
    {
     "name": "stdout",
     "output_type": "stream",
     "text": [
      "Evaluation of model LinearRegression():\n",
      "R^2 :  0.5207380784273559\n",
      "MAE : 0.013296422125119639\n",
      "RMSE: 0.04440173172787917\n",
      "\n",
      "\n",
      "Evaluation of model SGDRegressor():\n",
      "R^2 :  -0.040691217701769755\n",
      "MAE : 0.019389106363992072\n",
      "RMSE: 0.06542961893773487\n",
      "\n",
      "\n"
     ]
    }
   ],
   "source": [
    "run_experiment(LinearRegression(), X_train, y_train, X_test, y_test)\n",
    "run_experiment(SGDRegressor(), X_train, y_train, X_test, y_test)"
   ]
  },
  {
   "cell_type": "code",
   "execution_count": null,
   "metadata": {},
   "outputs": [],
   "source": []
  },
  {
   "cell_type": "code",
   "execution_count": null,
   "metadata": {},
   "outputs": [],
   "source": []
  }
 ],
 "metadata": {
  "kernelspec": {
   "display_name": "base",
   "language": "python",
   "name": "python3"
  },
  "language_info": {
   "codemirror_mode": {
    "name": "ipython",
    "version": 3
   },
   "file_extension": ".py",
   "mimetype": "text/x-python",
   "name": "python",
   "nbconvert_exporter": "python",
   "pygments_lexer": "ipython3",
   "version": "3.9.13 (main, Aug 25 2022, 23:51:50) [MSC v.1916 64 bit (AMD64)]"
  },
  "orig_nbformat": 4,
  "vscode": {
   "interpreter": {
    "hash": "62b8ce1e837aade5dd6c8758403d006a508fd0e6d15414ef25ac79fb5a7ddfc3"
   }
  }
 },
 "nbformat": 4,
 "nbformat_minor": 2
}
